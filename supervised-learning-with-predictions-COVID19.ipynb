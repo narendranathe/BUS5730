{
 "cells": [
  {
   "cell_type": "code",
   "execution_count": 1,
   "id": "11518444",
   "metadata": {
    "execution": {
     "iopub.execute_input": "2024-02-11T19:16:37.401803Z",
     "iopub.status.busy": "2024-02-11T19:16:37.401401Z",
     "iopub.status.idle": "2024-02-11T19:16:39.393696Z",
     "shell.execute_reply": "2024-02-11T19:16:39.391723Z"
    },
    "papermill": {
     "duration": 2.002141,
     "end_time": "2024-02-11T19:16:39.396615",
     "exception": false,
     "start_time": "2024-02-11T19:16:37.394474",
     "status": "completed"
    },
    "tags": []
   },
   "outputs": [
    {
     "name": "stdout",
     "output_type": "stream",
     "text": [
      "<class 'pandas.core.frame.DataFrame'>\n",
      "RangeIndex: 316800 entries, 0 to 316799\n",
      "Data columns (total 26 columns):\n",
      " #   Column                   Non-Null Count   Dtype\n",
      "---  ------                   --------------   -----\n",
      " 0   Fever                    316800 non-null  int64\n",
      " 1   Tiredness                316800 non-null  int64\n",
      " 2   Dry-Cough                316800 non-null  int64\n",
      " 3   Difficulty-in-Breathing  316800 non-null  int64\n",
      " 4   Sore-Throat              316800 non-null  int64\n",
      " 5   None_Sympton             316800 non-null  int64\n",
      " 6   Pains                    316800 non-null  int64\n",
      " 7   Nasal-Congestion         316800 non-null  int64\n",
      " 8   Runny-Nose               316800 non-null  int64\n",
      " 9   Diarrhea                 316800 non-null  int64\n",
      " 10  None_Experiencing        316800 non-null  int64\n",
      " 11  Age_0-9                  316800 non-null  int64\n",
      " 12  Age_10-19                316800 non-null  int64\n",
      " 13  Age_20-24                316800 non-null  int64\n",
      " 14  Age_25-59                316800 non-null  int64\n",
      " 15  Age_60+                  316800 non-null  int64\n",
      " 16  Gender_Female            316800 non-null  int64\n",
      " 17  Gender_Male              316800 non-null  int64\n",
      " 18  Gender_Transgender       316800 non-null  int64\n",
      " 19  Severity_Mild            316800 non-null  int64\n",
      " 20  Severity_Moderate        316800 non-null  int64\n",
      " 21  Severity_None            316800 non-null  int64\n",
      " 22  Severity_Severe          316800 non-null  int64\n",
      " 23  Contact_Dont-Know        316800 non-null  int64\n",
      " 24  Contact_No               316800 non-null  int64\n",
      " 25  Contact_Yes              316800 non-null  int64\n",
      "dtypes: int64(26)\n",
      "memory usage: 62.8 MB\n"
     ]
    }
   ],
   "source": [
    "import pandas as pd\n",
    "\n",
    "# Load the dataset\n",
    "data = pd.read_csv('/kaggle/input/covid19-symptoms-checker/Cleaned-Data.csv')\n",
    "\n",
    "# Drop the \"Country\" column from the dataset\n",
    "data = data.drop('Country', axis=1)\n",
    "\n",
    "data.head()\n",
    "data.info()"
   ]
  },
  {
   "cell_type": "markdown",
   "id": "699bc61e",
   "metadata": {
    "papermill": {
     "duration": 0.004663,
     "end_time": "2024-02-11T19:16:39.406630",
     "exception": false,
     "start_time": "2024-02-11T19:16:39.401967",
     "status": "completed"
    },
    "tags": []
   },
   "source": [
    "# Evaluation Methods\r\n",
    "\n",
    "Before we get started coding, it's important to discuss<strong> evaluation techniques to review model performance</strong>.\r\n",
    "\r\n",
    "The angle of evaluation depends on the scope of your model, and specifically, whether it is a classification or regression model.\r\n",
    "\r\n",
    "In the case of classification, common evaluation methods include<strong>  the confusion matrix, classification report, and accuracy s</strong>core."
   ]
  },
  {
   "cell_type": "markdown",
   "id": "df30a1b6",
   "metadata": {
    "papermill": {
     "duration": 0.004605,
     "end_time": "2024-02-11T19:16:39.416099",
     "exception": false,
     "start_time": "2024-02-11T19:16:39.411494",
     "status": "completed"
    },
    "tags": []
   },
   "source": [
    "## 1) Accuracy Score\n",
    "This is a simple metric measuring how many cases the model classified correctly divided by the number of cases. If all predictions are correct, the accuracy score is 1.0, and 0 when all predicted cases are wrong."
   ]
  },
  {
   "cell_type": "markdown",
   "id": "596ac484",
   "metadata": {
    "papermill": {
     "duration": 0.004616,
     "end_time": "2024-02-11T19:16:39.425851",
     "exception": false,
     "start_time": "2024-02-11T19:16:39.421235",
     "status": "completed"
    },
    "tags": []
   },
   "source": [
    "## 2) Confusion Matrix\n",
    "A confusion matrix, also known as an error matrix, is a simple table that summarizes the performance of the model, including the number of false-positives and false-negatives."
   ]
  },
  {
   "cell_type": "markdown",
   "id": "16abf115",
   "metadata": {
    "papermill": {
     "duration": 0.005137,
     "end_time": "2024-02-11T19:16:39.436009",
     "exception": false,
     "start_time": "2024-02-11T19:16:39.430872",
     "status": "completed"
    },
    "tags": []
   },
   "source": [
    "## 3) Classification Report\n",
    "Another popular classification technique is the classification report, which generates three evaluation metrics.\n",
    "\n",
    "<strong> Precision </strong> is the ratio of correctly predicted true-positives to the total of predicted positive cases. A high precision score translates to a low number of false-positives. \n",
    "\n",
    "<strong> Recall </strong>  is the ratio of correctly predicted true-positives to the total of actual positive cases. This metric addresses the question of how many positive outcomes were rightly classified as positive?\n",
    "\n",
    "<strong> F1-score </strong> is a weighted average of precision and recall. It’s typically used as a metric for model-to-model comparison rather than internal model accuracy. In addition, the f1-score is generally lower than the accuracy score due to the way recall and precision are calculated.\r\n",
    "<strong> \r\n",
    "Suppo </strong> rt is not an evaluation metric per se but rather a tally of the number of positive and negative cases respectively."
   ]
  },
  {
   "cell_type": "code",
   "execution_count": 2,
   "id": "39d272b5",
   "metadata": {
    "execution": {
     "iopub.execute_input": "2024-02-11T19:16:39.448332Z",
     "iopub.status.busy": "2024-02-11T19:16:39.447901Z",
     "iopub.status.idle": "2024-02-11T19:16:41.016762Z",
     "shell.execute_reply": "2024-02-11T19:16:41.015567Z"
    },
    "papermill": {
     "duration": 1.578155,
     "end_time": "2024-02-11T19:16:41.019453",
     "exception": false,
     "start_time": "2024-02-11T19:16:39.441298",
     "status": "completed"
    },
    "tags": []
   },
   "outputs": [],
   "source": [
    "from sklearn.model_selection import train_test_split\n",
    "\n",
    "# Split the data into features and target variable\n",
    "X = data.drop('Severity_Severe', axis=1)  # Features\n",
    "y = data['Severity_Severe']  # Target variable\n",
    "\n",
    "# Split the data into training and test sets\n",
    "X_train, X_test, y_train, y_test = train_test_split(X, y, test_size=0.2, random_state=42)  # Using 20% of the data for testing\n"
   ]
  },
  {
   "cell_type": "code",
   "execution_count": 3,
   "id": "7bad58ed",
   "metadata": {
    "execution": {
     "iopub.execute_input": "2024-02-11T19:16:41.031581Z",
     "iopub.status.busy": "2024-02-11T19:16:41.031209Z",
     "iopub.status.idle": "2024-02-11T19:16:41.395611Z",
     "shell.execute_reply": "2024-02-11T19:16:41.394376Z"
    },
    "papermill": {
     "duration": 0.373595,
     "end_time": "2024-02-11T19:16:41.398136",
     "exception": false,
     "start_time": "2024-02-11T19:16:41.024541",
     "status": "completed"
    },
    "tags": []
   },
   "outputs": [
    {
     "data": {
      "text/html": [
       "<style>#sk-container-id-1 {color: black;background-color: white;}#sk-container-id-1 pre{padding: 0;}#sk-container-id-1 div.sk-toggleable {background-color: white;}#sk-container-id-1 label.sk-toggleable__label {cursor: pointer;display: block;width: 100%;margin-bottom: 0;padding: 0.3em;box-sizing: border-box;text-align: center;}#sk-container-id-1 label.sk-toggleable__label-arrow:before {content: \"▸\";float: left;margin-right: 0.25em;color: #696969;}#sk-container-id-1 label.sk-toggleable__label-arrow:hover:before {color: black;}#sk-container-id-1 div.sk-estimator:hover label.sk-toggleable__label-arrow:before {color: black;}#sk-container-id-1 div.sk-toggleable__content {max-height: 0;max-width: 0;overflow: hidden;text-align: left;background-color: #f0f8ff;}#sk-container-id-1 div.sk-toggleable__content pre {margin: 0.2em;color: black;border-radius: 0.25em;background-color: #f0f8ff;}#sk-container-id-1 input.sk-toggleable__control:checked~div.sk-toggleable__content {max-height: 200px;max-width: 100%;overflow: auto;}#sk-container-id-1 input.sk-toggleable__control:checked~label.sk-toggleable__label-arrow:before {content: \"▾\";}#sk-container-id-1 div.sk-estimator input.sk-toggleable__control:checked~label.sk-toggleable__label {background-color: #d4ebff;}#sk-container-id-1 div.sk-label input.sk-toggleable__control:checked~label.sk-toggleable__label {background-color: #d4ebff;}#sk-container-id-1 input.sk-hidden--visually {border: 0;clip: rect(1px 1px 1px 1px);clip: rect(1px, 1px, 1px, 1px);height: 1px;margin: -1px;overflow: hidden;padding: 0;position: absolute;width: 1px;}#sk-container-id-1 div.sk-estimator {font-family: monospace;background-color: #f0f8ff;border: 1px dotted black;border-radius: 0.25em;box-sizing: border-box;margin-bottom: 0.5em;}#sk-container-id-1 div.sk-estimator:hover {background-color: #d4ebff;}#sk-container-id-1 div.sk-parallel-item::after {content: \"\";width: 100%;border-bottom: 1px solid gray;flex-grow: 1;}#sk-container-id-1 div.sk-label:hover label.sk-toggleable__label {background-color: #d4ebff;}#sk-container-id-1 div.sk-serial::before {content: \"\";position: absolute;border-left: 1px solid gray;box-sizing: border-box;top: 0;bottom: 0;left: 50%;z-index: 0;}#sk-container-id-1 div.sk-serial {display: flex;flex-direction: column;align-items: center;background-color: white;padding-right: 0.2em;padding-left: 0.2em;position: relative;}#sk-container-id-1 div.sk-item {position: relative;z-index: 1;}#sk-container-id-1 div.sk-parallel {display: flex;align-items: stretch;justify-content: center;background-color: white;position: relative;}#sk-container-id-1 div.sk-item::before, #sk-container-id-1 div.sk-parallel-item::before {content: \"\";position: absolute;border-left: 1px solid gray;box-sizing: border-box;top: 0;bottom: 0;left: 50%;z-index: -1;}#sk-container-id-1 div.sk-parallel-item {display: flex;flex-direction: column;z-index: 1;position: relative;background-color: white;}#sk-container-id-1 div.sk-parallel-item:first-child::after {align-self: flex-end;width: 50%;}#sk-container-id-1 div.sk-parallel-item:last-child::after {align-self: flex-start;width: 50%;}#sk-container-id-1 div.sk-parallel-item:only-child::after {width: 0;}#sk-container-id-1 div.sk-dashed-wrapped {border: 1px dashed gray;margin: 0 0.4em 0.5em 0.4em;box-sizing: border-box;padding-bottom: 0.4em;background-color: white;}#sk-container-id-1 div.sk-label label {font-family: monospace;font-weight: bold;display: inline-block;line-height: 1.2em;}#sk-container-id-1 div.sk-label-container {text-align: center;}#sk-container-id-1 div.sk-container {/* jupyter's `normalize.less` sets `[hidden] { display: none; }` but bootstrap.min.css set `[hidden] { display: none !important; }` so we also need the `!important` here to be able to override the default hidden behavior on the sphinx rendered scikit-learn.org. See: https://github.com/scikit-learn/scikit-learn/issues/21755 */display: inline-block !important;position: relative;}#sk-container-id-1 div.sk-text-repr-fallback {display: none;}</style><div id=\"sk-container-id-1\" class=\"sk-top-container\"><div class=\"sk-text-repr-fallback\"><pre>KNeighborsClassifier(n_neighbors=3)</pre><b>In a Jupyter environment, please rerun this cell to show the HTML representation or trust the notebook. <br />On GitHub, the HTML representation is unable to render, please try loading this page with nbviewer.org.</b></div><div class=\"sk-container\" hidden><div class=\"sk-item\"><div class=\"sk-estimator sk-toggleable\"><input class=\"sk-toggleable__control sk-hidden--visually\" id=\"sk-estimator-id-1\" type=\"checkbox\" checked><label for=\"sk-estimator-id-1\" class=\"sk-toggleable__label sk-toggleable__label-arrow\">KNeighborsClassifier</label><div class=\"sk-toggleable__content\"><pre>KNeighborsClassifier(n_neighbors=3)</pre></div></div></div></div></div>"
      ],
      "text/plain": [
       "KNeighborsClassifier(n_neighbors=3)"
      ]
     },
     "execution_count": 3,
     "metadata": {},
     "output_type": "execute_result"
    }
   ],
   "source": [
    "from sklearn.neighbors import KNeighborsClassifier\n",
    "from sklearn.linear_model import LogisticRegression\n",
    "from sklearn.naive_bayes import GaussianNB\n",
    "from sklearn.svm import SVC\n",
    "from sklearn.tree import DecisionTreeClassifier\n",
    "\n",
    "\n",
    "# Initialize the classifiers\n",
    "knn = KNeighborsClassifier(n_neighbors=3)\n",
    "\n",
    "# Train the models\n",
    "knn.fit(X_train, y_train)"
   ]
  },
  {
   "cell_type": "code",
   "execution_count": 4,
   "id": "c837072b",
   "metadata": {
    "execution": {
     "iopub.execute_input": "2024-02-11T19:16:41.411855Z",
     "iopub.status.busy": "2024-02-11T19:16:41.411006Z",
     "iopub.status.idle": "2024-02-11T19:16:42.595914Z",
     "shell.execute_reply": "2024-02-11T19:16:42.594769Z"
    },
    "papermill": {
     "duration": 1.195466,
     "end_time": "2024-02-11T19:16:42.599315",
     "exception": false,
     "start_time": "2024-02-11T19:16:41.403849",
     "status": "completed"
    },
    "tags": []
   },
   "outputs": [
    {
     "data": {
      "text/html": [
       "<style>#sk-container-id-2 {color: black;background-color: white;}#sk-container-id-2 pre{padding: 0;}#sk-container-id-2 div.sk-toggleable {background-color: white;}#sk-container-id-2 label.sk-toggleable__label {cursor: pointer;display: block;width: 100%;margin-bottom: 0;padding: 0.3em;box-sizing: border-box;text-align: center;}#sk-container-id-2 label.sk-toggleable__label-arrow:before {content: \"▸\";float: left;margin-right: 0.25em;color: #696969;}#sk-container-id-2 label.sk-toggleable__label-arrow:hover:before {color: black;}#sk-container-id-2 div.sk-estimator:hover label.sk-toggleable__label-arrow:before {color: black;}#sk-container-id-2 div.sk-toggleable__content {max-height: 0;max-width: 0;overflow: hidden;text-align: left;background-color: #f0f8ff;}#sk-container-id-2 div.sk-toggleable__content pre {margin: 0.2em;color: black;border-radius: 0.25em;background-color: #f0f8ff;}#sk-container-id-2 input.sk-toggleable__control:checked~div.sk-toggleable__content {max-height: 200px;max-width: 100%;overflow: auto;}#sk-container-id-2 input.sk-toggleable__control:checked~label.sk-toggleable__label-arrow:before {content: \"▾\";}#sk-container-id-2 div.sk-estimator input.sk-toggleable__control:checked~label.sk-toggleable__label {background-color: #d4ebff;}#sk-container-id-2 div.sk-label input.sk-toggleable__control:checked~label.sk-toggleable__label {background-color: #d4ebff;}#sk-container-id-2 input.sk-hidden--visually {border: 0;clip: rect(1px 1px 1px 1px);clip: rect(1px, 1px, 1px, 1px);height: 1px;margin: -1px;overflow: hidden;padding: 0;position: absolute;width: 1px;}#sk-container-id-2 div.sk-estimator {font-family: monospace;background-color: #f0f8ff;border: 1px dotted black;border-radius: 0.25em;box-sizing: border-box;margin-bottom: 0.5em;}#sk-container-id-2 div.sk-estimator:hover {background-color: #d4ebff;}#sk-container-id-2 div.sk-parallel-item::after {content: \"\";width: 100%;border-bottom: 1px solid gray;flex-grow: 1;}#sk-container-id-2 div.sk-label:hover label.sk-toggleable__label {background-color: #d4ebff;}#sk-container-id-2 div.sk-serial::before {content: \"\";position: absolute;border-left: 1px solid gray;box-sizing: border-box;top: 0;bottom: 0;left: 50%;z-index: 0;}#sk-container-id-2 div.sk-serial {display: flex;flex-direction: column;align-items: center;background-color: white;padding-right: 0.2em;padding-left: 0.2em;position: relative;}#sk-container-id-2 div.sk-item {position: relative;z-index: 1;}#sk-container-id-2 div.sk-parallel {display: flex;align-items: stretch;justify-content: center;background-color: white;position: relative;}#sk-container-id-2 div.sk-item::before, #sk-container-id-2 div.sk-parallel-item::before {content: \"\";position: absolute;border-left: 1px solid gray;box-sizing: border-box;top: 0;bottom: 0;left: 50%;z-index: -1;}#sk-container-id-2 div.sk-parallel-item {display: flex;flex-direction: column;z-index: 1;position: relative;background-color: white;}#sk-container-id-2 div.sk-parallel-item:first-child::after {align-self: flex-end;width: 50%;}#sk-container-id-2 div.sk-parallel-item:last-child::after {align-self: flex-start;width: 50%;}#sk-container-id-2 div.sk-parallel-item:only-child::after {width: 0;}#sk-container-id-2 div.sk-dashed-wrapped {border: 1px dashed gray;margin: 0 0.4em 0.5em 0.4em;box-sizing: border-box;padding-bottom: 0.4em;background-color: white;}#sk-container-id-2 div.sk-label label {font-family: monospace;font-weight: bold;display: inline-block;line-height: 1.2em;}#sk-container-id-2 div.sk-label-container {text-align: center;}#sk-container-id-2 div.sk-container {/* jupyter's `normalize.less` sets `[hidden] { display: none; }` but bootstrap.min.css set `[hidden] { display: none !important; }` so we also need the `!important` here to be able to override the default hidden behavior on the sphinx rendered scikit-learn.org. See: https://github.com/scikit-learn/scikit-learn/issues/21755 */display: inline-block !important;position: relative;}#sk-container-id-2 div.sk-text-repr-fallback {display: none;}</style><div id=\"sk-container-id-2\" class=\"sk-top-container\"><div class=\"sk-text-repr-fallback\"><pre>LogisticRegression()</pre><b>In a Jupyter environment, please rerun this cell to show the HTML representation or trust the notebook. <br />On GitHub, the HTML representation is unable to render, please try loading this page with nbviewer.org.</b></div><div class=\"sk-container\" hidden><div class=\"sk-item\"><div class=\"sk-estimator sk-toggleable\"><input class=\"sk-toggleable__control sk-hidden--visually\" id=\"sk-estimator-id-2\" type=\"checkbox\" checked><label for=\"sk-estimator-id-2\" class=\"sk-toggleable__label sk-toggleable__label-arrow\">LogisticRegression</label><div class=\"sk-toggleable__content\"><pre>LogisticRegression()</pre></div></div></div></div></div>"
      ],
      "text/plain": [
       "LogisticRegression()"
      ]
     },
     "execution_count": 4,
     "metadata": {},
     "output_type": "execute_result"
    }
   ],
   "source": [
    "log_reg = LogisticRegression()\n",
    "log_reg.fit(X_train, y_train)"
   ]
  },
  {
   "cell_type": "code",
   "execution_count": 5,
   "id": "307f0ff9",
   "metadata": {
    "execution": {
     "iopub.execute_input": "2024-02-11T19:16:42.619561Z",
     "iopub.status.busy": "2024-02-11T19:16:42.618961Z",
     "iopub.status.idle": "2024-02-11T19:16:42.819605Z",
     "shell.execute_reply": "2024-02-11T19:16:42.818423Z"
    },
    "papermill": {
     "duration": 0.214059,
     "end_time": "2024-02-11T19:16:42.822368",
     "exception": false,
     "start_time": "2024-02-11T19:16:42.608309",
     "status": "completed"
    },
    "tags": []
   },
   "outputs": [
    {
     "data": {
      "text/html": [
       "<style>#sk-container-id-3 {color: black;background-color: white;}#sk-container-id-3 pre{padding: 0;}#sk-container-id-3 div.sk-toggleable {background-color: white;}#sk-container-id-3 label.sk-toggleable__label {cursor: pointer;display: block;width: 100%;margin-bottom: 0;padding: 0.3em;box-sizing: border-box;text-align: center;}#sk-container-id-3 label.sk-toggleable__label-arrow:before {content: \"▸\";float: left;margin-right: 0.25em;color: #696969;}#sk-container-id-3 label.sk-toggleable__label-arrow:hover:before {color: black;}#sk-container-id-3 div.sk-estimator:hover label.sk-toggleable__label-arrow:before {color: black;}#sk-container-id-3 div.sk-toggleable__content {max-height: 0;max-width: 0;overflow: hidden;text-align: left;background-color: #f0f8ff;}#sk-container-id-3 div.sk-toggleable__content pre {margin: 0.2em;color: black;border-radius: 0.25em;background-color: #f0f8ff;}#sk-container-id-3 input.sk-toggleable__control:checked~div.sk-toggleable__content {max-height: 200px;max-width: 100%;overflow: auto;}#sk-container-id-3 input.sk-toggleable__control:checked~label.sk-toggleable__label-arrow:before {content: \"▾\";}#sk-container-id-3 div.sk-estimator input.sk-toggleable__control:checked~label.sk-toggleable__label {background-color: #d4ebff;}#sk-container-id-3 div.sk-label input.sk-toggleable__control:checked~label.sk-toggleable__label {background-color: #d4ebff;}#sk-container-id-3 input.sk-hidden--visually {border: 0;clip: rect(1px 1px 1px 1px);clip: rect(1px, 1px, 1px, 1px);height: 1px;margin: -1px;overflow: hidden;padding: 0;position: absolute;width: 1px;}#sk-container-id-3 div.sk-estimator {font-family: monospace;background-color: #f0f8ff;border: 1px dotted black;border-radius: 0.25em;box-sizing: border-box;margin-bottom: 0.5em;}#sk-container-id-3 div.sk-estimator:hover {background-color: #d4ebff;}#sk-container-id-3 div.sk-parallel-item::after {content: \"\";width: 100%;border-bottom: 1px solid gray;flex-grow: 1;}#sk-container-id-3 div.sk-label:hover label.sk-toggleable__label {background-color: #d4ebff;}#sk-container-id-3 div.sk-serial::before {content: \"\";position: absolute;border-left: 1px solid gray;box-sizing: border-box;top: 0;bottom: 0;left: 50%;z-index: 0;}#sk-container-id-3 div.sk-serial {display: flex;flex-direction: column;align-items: center;background-color: white;padding-right: 0.2em;padding-left: 0.2em;position: relative;}#sk-container-id-3 div.sk-item {position: relative;z-index: 1;}#sk-container-id-3 div.sk-parallel {display: flex;align-items: stretch;justify-content: center;background-color: white;position: relative;}#sk-container-id-3 div.sk-item::before, #sk-container-id-3 div.sk-parallel-item::before {content: \"\";position: absolute;border-left: 1px solid gray;box-sizing: border-box;top: 0;bottom: 0;left: 50%;z-index: -1;}#sk-container-id-3 div.sk-parallel-item {display: flex;flex-direction: column;z-index: 1;position: relative;background-color: white;}#sk-container-id-3 div.sk-parallel-item:first-child::after {align-self: flex-end;width: 50%;}#sk-container-id-3 div.sk-parallel-item:last-child::after {align-self: flex-start;width: 50%;}#sk-container-id-3 div.sk-parallel-item:only-child::after {width: 0;}#sk-container-id-3 div.sk-dashed-wrapped {border: 1px dashed gray;margin: 0 0.4em 0.5em 0.4em;box-sizing: border-box;padding-bottom: 0.4em;background-color: white;}#sk-container-id-3 div.sk-label label {font-family: monospace;font-weight: bold;display: inline-block;line-height: 1.2em;}#sk-container-id-3 div.sk-label-container {text-align: center;}#sk-container-id-3 div.sk-container {/* jupyter's `normalize.less` sets `[hidden] { display: none; }` but bootstrap.min.css set `[hidden] { display: none !important; }` so we also need the `!important` here to be able to override the default hidden behavior on the sphinx rendered scikit-learn.org. See: https://github.com/scikit-learn/scikit-learn/issues/21755 */display: inline-block !important;position: relative;}#sk-container-id-3 div.sk-text-repr-fallback {display: none;}</style><div id=\"sk-container-id-3\" class=\"sk-top-container\"><div class=\"sk-text-repr-fallback\"><pre>GaussianNB()</pre><b>In a Jupyter environment, please rerun this cell to show the HTML representation or trust the notebook. <br />On GitHub, the HTML representation is unable to render, please try loading this page with nbviewer.org.</b></div><div class=\"sk-container\" hidden><div class=\"sk-item\"><div class=\"sk-estimator sk-toggleable\"><input class=\"sk-toggleable__control sk-hidden--visually\" id=\"sk-estimator-id-3\" type=\"checkbox\" checked><label for=\"sk-estimator-id-3\" class=\"sk-toggleable__label sk-toggleable__label-arrow\">GaussianNB</label><div class=\"sk-toggleable__content\"><pre>GaussianNB()</pre></div></div></div></div></div>"
      ],
      "text/plain": [
       "GaussianNB()"
      ]
     },
     "execution_count": 5,
     "metadata": {},
     "output_type": "execute_result"
    }
   ],
   "source": [
    "nb = GaussianNB()\n",
    "nb.fit(X_train, y_train)"
   ]
  },
  {
   "cell_type": "code",
   "execution_count": 6,
   "id": "ae1c0534",
   "metadata": {
    "execution": {
     "iopub.execute_input": "2024-02-11T19:16:42.839357Z",
     "iopub.status.busy": "2024-02-11T19:16:42.838548Z",
     "iopub.status.idle": "2024-02-11T19:16:43.364239Z",
     "shell.execute_reply": "2024-02-11T19:16:43.362958Z"
    },
    "papermill": {
     "duration": 0.538847,
     "end_time": "2024-02-11T19:16:43.367087",
     "exception": false,
     "start_time": "2024-02-11T19:16:42.828240",
     "status": "completed"
    },
    "tags": []
   },
   "outputs": [
    {
     "data": {
      "text/html": [
       "<style>#sk-container-id-4 {color: black;background-color: white;}#sk-container-id-4 pre{padding: 0;}#sk-container-id-4 div.sk-toggleable {background-color: white;}#sk-container-id-4 label.sk-toggleable__label {cursor: pointer;display: block;width: 100%;margin-bottom: 0;padding: 0.3em;box-sizing: border-box;text-align: center;}#sk-container-id-4 label.sk-toggleable__label-arrow:before {content: \"▸\";float: left;margin-right: 0.25em;color: #696969;}#sk-container-id-4 label.sk-toggleable__label-arrow:hover:before {color: black;}#sk-container-id-4 div.sk-estimator:hover label.sk-toggleable__label-arrow:before {color: black;}#sk-container-id-4 div.sk-toggleable__content {max-height: 0;max-width: 0;overflow: hidden;text-align: left;background-color: #f0f8ff;}#sk-container-id-4 div.sk-toggleable__content pre {margin: 0.2em;color: black;border-radius: 0.25em;background-color: #f0f8ff;}#sk-container-id-4 input.sk-toggleable__control:checked~div.sk-toggleable__content {max-height: 200px;max-width: 100%;overflow: auto;}#sk-container-id-4 input.sk-toggleable__control:checked~label.sk-toggleable__label-arrow:before {content: \"▾\";}#sk-container-id-4 div.sk-estimator input.sk-toggleable__control:checked~label.sk-toggleable__label {background-color: #d4ebff;}#sk-container-id-4 div.sk-label input.sk-toggleable__control:checked~label.sk-toggleable__label {background-color: #d4ebff;}#sk-container-id-4 input.sk-hidden--visually {border: 0;clip: rect(1px 1px 1px 1px);clip: rect(1px, 1px, 1px, 1px);height: 1px;margin: -1px;overflow: hidden;padding: 0;position: absolute;width: 1px;}#sk-container-id-4 div.sk-estimator {font-family: monospace;background-color: #f0f8ff;border: 1px dotted black;border-radius: 0.25em;box-sizing: border-box;margin-bottom: 0.5em;}#sk-container-id-4 div.sk-estimator:hover {background-color: #d4ebff;}#sk-container-id-4 div.sk-parallel-item::after {content: \"\";width: 100%;border-bottom: 1px solid gray;flex-grow: 1;}#sk-container-id-4 div.sk-label:hover label.sk-toggleable__label {background-color: #d4ebff;}#sk-container-id-4 div.sk-serial::before {content: \"\";position: absolute;border-left: 1px solid gray;box-sizing: border-box;top: 0;bottom: 0;left: 50%;z-index: 0;}#sk-container-id-4 div.sk-serial {display: flex;flex-direction: column;align-items: center;background-color: white;padding-right: 0.2em;padding-left: 0.2em;position: relative;}#sk-container-id-4 div.sk-item {position: relative;z-index: 1;}#sk-container-id-4 div.sk-parallel {display: flex;align-items: stretch;justify-content: center;background-color: white;position: relative;}#sk-container-id-4 div.sk-item::before, #sk-container-id-4 div.sk-parallel-item::before {content: \"\";position: absolute;border-left: 1px solid gray;box-sizing: border-box;top: 0;bottom: 0;left: 50%;z-index: -1;}#sk-container-id-4 div.sk-parallel-item {display: flex;flex-direction: column;z-index: 1;position: relative;background-color: white;}#sk-container-id-4 div.sk-parallel-item:first-child::after {align-self: flex-end;width: 50%;}#sk-container-id-4 div.sk-parallel-item:last-child::after {align-self: flex-start;width: 50%;}#sk-container-id-4 div.sk-parallel-item:only-child::after {width: 0;}#sk-container-id-4 div.sk-dashed-wrapped {border: 1px dashed gray;margin: 0 0.4em 0.5em 0.4em;box-sizing: border-box;padding-bottom: 0.4em;background-color: white;}#sk-container-id-4 div.sk-label label {font-family: monospace;font-weight: bold;display: inline-block;line-height: 1.2em;}#sk-container-id-4 div.sk-label-container {text-align: center;}#sk-container-id-4 div.sk-container {/* jupyter's `normalize.less` sets `[hidden] { display: none; }` but bootstrap.min.css set `[hidden] { display: none !important; }` so we also need the `!important` here to be able to override the default hidden behavior on the sphinx rendered scikit-learn.org. See: https://github.com/scikit-learn/scikit-learn/issues/21755 */display: inline-block !important;position: relative;}#sk-container-id-4 div.sk-text-repr-fallback {display: none;}</style><div id=\"sk-container-id-4\" class=\"sk-top-container\"><div class=\"sk-text-repr-fallback\"><pre>DecisionTreeClassifier()</pre><b>In a Jupyter environment, please rerun this cell to show the HTML representation or trust the notebook. <br />On GitHub, the HTML representation is unable to render, please try loading this page with nbviewer.org.</b></div><div class=\"sk-container\" hidden><div class=\"sk-item\"><div class=\"sk-estimator sk-toggleable\"><input class=\"sk-toggleable__control sk-hidden--visually\" id=\"sk-estimator-id-4\" type=\"checkbox\" checked><label for=\"sk-estimator-id-4\" class=\"sk-toggleable__label sk-toggleable__label-arrow\">DecisionTreeClassifier</label><div class=\"sk-toggleable__content\"><pre>DecisionTreeClassifier()</pre></div></div></div></div></div>"
      ],
      "text/plain": [
       "DecisionTreeClassifier()"
      ]
     },
     "execution_count": 6,
     "metadata": {},
     "output_type": "execute_result"
    }
   ],
   "source": [
    "dt = DecisionTreeClassifier()\n",
    "dt.fit(X_train, y_train)"
   ]
  },
  {
   "cell_type": "code",
   "execution_count": 7,
   "id": "bbd44986",
   "metadata": {
    "execution": {
     "iopub.execute_input": "2024-02-11T19:16:43.384420Z",
     "iopub.status.busy": "2024-02-11T19:16:43.384011Z",
     "iopub.status.idle": "2024-02-11T19:21:30.305657Z",
     "shell.execute_reply": "2024-02-11T19:21:30.304556Z"
    },
    "papermill": {
     "duration": 286.940507,
     "end_time": "2024-02-11T19:21:30.314132",
     "exception": false,
     "start_time": "2024-02-11T19:16:43.373625",
     "status": "completed"
    },
    "tags": []
   },
   "outputs": [
    {
     "name": "stdout",
     "output_type": "stream",
     "text": [
      "K-Nearest Neighbors Test accuracy: 1.00\n",
      "K-Nearest Neighbors Confusion Matrix:\n"
     ]
    },
    {
     "data": {
      "image/png": "[encoded data removed]",
      "text/plain": [
       "<Figure size 400x300 with 2 Axes>"
      ]
     },
     "metadata": {},
     "output_type": "display_data"
    },
    {
     "name": "stdout",
     "output_type": "stream",
     "text": [
      "K-Nearest Neighbors Classification Report:\n",
      "              precision    recall  f1-score   support\n",
      "\n",
      "           0       1.00      1.00      1.00     47641\n",
      "           1       1.00      1.00      1.00     15719\n",
      "\n",
      "    accuracy                           1.00     63360\n",
      "   macro avg       1.00      1.00      1.00     63360\n",
      "weighted avg       1.00      1.00      1.00     63360\n",
      "\n"
     ]
    }
   ],
   "source": [
    "from sklearn.metrics import accuracy_score, confusion_matrix, classification_report\n",
    "import matplotlib.pyplot as plt\n",
    "import seaborn as sns\n",
    "\n",
    "# Evaluate K-Nearest Neighbors model\n",
    "knn_y_pred = knn.predict(X_test)\n",
    "knn_accuracy = accuracy_score(y_test, knn_y_pred)\n",
    "knn_cm = confusion_matrix(y_test, knn_y_pred)\n",
    "knn_report = classification_report(y_test, knn_y_pred)\n",
    "\n",
    "# Print and plot the results for K-Nearest Neighbors\n",
    "print(f\"K-Nearest Neighbors Test accuracy: {knn_accuracy:.2f}\")\n",
    "print(\"K-Nearest Neighbors Confusion Matrix:\")\n",
    "plt.figure(figsize=(4, 3))\n",
    "sns.heatmap(knn_cm, annot=True, cmap=\"YlGnBu\")\n",
    "plt.show()\n",
    "print(\"K-Nearest Neighbors Classification Report:\")\n",
    "print(knn_report)"
   ]
  },
  {
   "cell_type": "code",
   "execution_count": 8,
   "id": "713ef239",
   "metadata": {
    "execution": {
     "iopub.execute_input": "2024-02-11T19:21:30.328240Z",
     "iopub.status.busy": "2024-02-11T19:21:30.327840Z",
     "iopub.status.idle": "2024-02-11T19:21:30.383310Z",
     "shell.execute_reply": "2024-02-11T19:21:30.381636Z"
    },
    "papermill": {
     "duration": 0.066066,
     "end_time": "2024-02-11T19:21:30.386448",
     "exception": false,
     "start_time": "2024-02-11T19:21:30.320382",
     "status": "completed"
    },
    "tags": []
   },
   "outputs": [
    {
     "name": "stdout",
     "output_type": "stream",
     "text": [
      "Predicted Severity_Severe: 1\n"
     ]
    }
   ],
   "source": [
    "# Data point to predict \n",
    "\n",
    "\n",
    "# Sample input data \n",
    "sample_input_data = {\n",
    "    'Fever': 1,\n",
    "    'Tiredness': 1,\n",
    "    'Dry-Cough': 1,\n",
    "    'Difficulty-in-Breathing':1,\n",
    "    'Sore-Throat':1,\n",
    "    'None_Sympton':0,\n",
    "    'Pains':1,\n",
    "    'Nasal-Congestion':1,\n",
    "    'Runny-Nose':1,\n",
    "    'Diarrhea':1,\n",
    "    'None_Experiencing':0,\n",
    "    'Age_0-9':0,\n",
    "    'Age_10-19':0,\n",
    "    'Age_20-24':0,\n",
    "    'Age_25-59':0,\n",
    "    'Age_60+':1,\n",
    "    'Gender_Female':0,\n",
    "    'Gender_Male':1,\n",
    "    'Gender_Transgender':0,\n",
    "    'Severity_Mild':0,\n",
    "    'Severity_Moderate':0,\n",
    "    'Severity_None':0,\n",
    "    'Contact_Dont-Know':1,\n",
    "    'Contact_No':0,\n",
    "    'Contact_Yes':0\n",
    "    \n",
    "    # Add other features here, excluding 'Severity_Severe'\n",
    "}\n",
    "\n",
    "# Convert the sample input data into a DataFrame\n",
    "sample_input_df = pd.DataFrame([sample_input_data])\n",
    "\n",
    "# Use the trained KNN model to predict\n",
    "predicted_output = knn.predict(sample_input_df)\n",
    "\n",
    "print(\"Predicted Severity_Severe:\", predicted_output[0])\n"
   ]
  },
  {
   "cell_type": "code",
   "execution_count": 9,
   "id": "29d8bfd4",
   "metadata": {
    "execution": {
     "iopub.execute_input": "2024-02-11T19:21:30.409503Z",
     "iopub.status.busy": "2024-02-11T19:21:30.408925Z",
     "iopub.status.idle": "2024-02-11T19:21:30.777848Z",
     "shell.execute_reply": "2024-02-11T19:21:30.776734Z"
    },
    "papermill": {
     "duration": 0.383351,
     "end_time": "2024-02-11T19:21:30.780328",
     "exception": false,
     "start_time": "2024-02-11T19:21:30.396977",
     "status": "completed"
    },
    "tags": []
   },
   "outputs": [
    {
     "name": "stdout",
     "output_type": "stream",
     "text": [
      "Logistic Regression Test accuracy: 1.00\n",
      "Logistic Regression Confusion Matrix:\n"
     ]
    },
    {
     "data": {
      "image/png": "[encoded data removed]",
      "text/plain": [
       "<Figure size 400x300 with 2 Axes>"
      ]
     },
     "metadata": {},
     "output_type": "display_data"
    },
    {
     "name": "stdout",
     "output_type": "stream",
     "text": [
      "Logistic Regression Classification Report:\n",
      "              precision    recall  f1-score   support\n",
      "\n",
      "           0       1.00      1.00      1.00     47641\n",
      "           1       1.00      1.00      1.00     15719\n",
      "\n",
      "    accuracy                           1.00     63360\n",
      "   macro avg       1.00      1.00      1.00     63360\n",
      "weighted avg       1.00      1.00      1.00     63360\n",
      "\n"
     ]
    }
   ],
   "source": [
    "# Evaluate Logistic Regression model\n",
    "log_reg_y_pred = log_reg.predict(X_test)\n",
    "log_reg_accuracy = accuracy_score(y_test, log_reg_y_pred)\n",
    "log_reg_cm = confusion_matrix(y_test, log_reg_y_pred)\n",
    "log_reg_report = classification_report(y_test, log_reg_y_pred)\n",
    "\n",
    "# Print and plot the results for Support Vector Machine\n",
    "print(f\"Logistic Regression Test accuracy: {log_reg_accuracy:.2f}\")\n",
    "print(\"Logistic Regression Confusion Matrix:\")\n",
    "plt.figure(figsize=(4, 3))\n",
    "sns.heatmap(log_reg_cm, annot=True, cmap=\"YlGnBu\")\n",
    "plt.show()\n",
    "print(\"Logistic Regression Classification Report:\")\n",
    "print(log_reg_report)"
   ]
  },
  {
   "cell_type": "code",
   "execution_count": 10,
   "id": "990f03ad",
   "metadata": {
    "execution": {
     "iopub.execute_input": "2024-02-11T19:21:30.795609Z",
     "iopub.status.busy": "2024-02-11T19:21:30.795183Z",
     "iopub.status.idle": "2024-02-11T19:21:30.806746Z",
     "shell.execute_reply": "2024-02-11T19:21:30.805466Z"
    },
    "papermill": {
     "duration": 0.022042,
     "end_time": "2024-02-11T19:21:30.809137",
     "exception": false,
     "start_time": "2024-02-11T19:21:30.787095",
     "status": "completed"
    },
    "tags": []
   },
   "outputs": [
    {
     "name": "stdout",
     "output_type": "stream",
     "text": [
      "Predicted Severity_Severe: 1\n"
     ]
    }
   ],
   "source": [
    "# Data point to predict \n",
    "\n",
    "\n",
    "# Sample input data \n",
    "sample_input_data = {\n",
    "    'Fever': 1,\n",
    "    'Tiredness': 1,\n",
    "    'Dry-Cough': 1,\n",
    "    'Difficulty-in-Breathing':1,\n",
    "    'Sore-Throat':1,\n",
    "    'None_Sympton':0,\n",
    "    'Pains':1,\n",
    "    'Nasal-Congestion':1,\n",
    "    'Runny-Nose':1,\n",
    "    'Diarrhea':1,\n",
    "    'None_Experiencing':0,\n",
    "    'Age_0-9':0,\n",
    "    'Age_10-19':0,\n",
    "    'Age_20-24':0,\n",
    "    'Age_25-59':0,\n",
    "    'Age_60+':1,\n",
    "    'Gender_Female':0,\n",
    "    'Gender_Male':1,\n",
    "    'Gender_Transgender':0,\n",
    "    'Severity_Mild':0,\n",
    "    'Severity_Moderate':0,\n",
    "    'Severity_None':0,\n",
    "    'Contact_Dont-Know':1,\n",
    "    'Contact_No':0,\n",
    "    'Contact_Yes':0\n",
    "    \n",
    "    # Add other features here, excluding 'Severity_Severe'\n",
    "}\n",
    "\n",
    "# Convert the sample input data into a DataFrame\n",
    "sample_input_df = pd.DataFrame([sample_input_data])\n",
    "\n",
    "# Use the trained logistic regression model to predict\n",
    "predicted_output = log_reg.predict(sample_input_df)\n",
    "\n",
    "print(\"Predicted Severity_Severe:\", predicted_output[0])\n"
   ]
  },
  {
   "cell_type": "code",
   "execution_count": 11,
   "id": "0a306f74",
   "metadata": {
    "execution": {
     "iopub.execute_input": "2024-02-11T19:21:30.824805Z",
     "iopub.status.busy": "2024-02-11T19:21:30.824404Z",
     "iopub.status.idle": "2024-02-11T19:21:31.166343Z",
     "shell.execute_reply": "2024-02-11T19:21:31.165152Z"
    },
    "papermill": {
     "duration": 0.354182,
     "end_time": "2024-02-11T19:21:31.170218",
     "exception": false,
     "start_time": "2024-02-11T19:21:30.816036",
     "status": "completed"
    },
    "tags": []
   },
   "outputs": [
    {
     "name": "stdout",
     "output_type": "stream",
     "text": [
      "Gaussian Naive Bayes Test accuracy: 1.00\n",
      "Gaussian Naive Bayes Confusion Matrix:\n"
     ]
    },
    {
     "data": {
      "image/png": "[encoded data removed]",
      "text/plain": [
       "<Figure size 400x300 with 2 Axes>"
      ]
     },
     "metadata": {},
     "output_type": "display_data"
    },
    {
     "name": "stdout",
     "output_type": "stream",
     "text": [
      "Gaussian Naive Bayes Classification Report:\n",
      "              precision    recall  f1-score   support\n",
      "\n",
      "           0       1.00      1.00      1.00     47641\n",
      "           1       1.00      1.00      1.00     15719\n",
      "\n",
      "    accuracy                           1.00     63360\n",
      "   macro avg       1.00      1.00      1.00     63360\n",
      "weighted avg       1.00      1.00      1.00     63360\n",
      "\n"
     ]
    }
   ],
   "source": [
    "# Predictions for Gaussian Naive Bayes\n",
    "nb_y_pred = nb.predict(X_test)\n",
    "nb_accuracy = accuracy_score(y_test, nb_y_pred)\n",
    "nb_cm = confusion_matrix(y_test, nb_y_pred)\n",
    "nb_report = classification_report(y_test, nb_y_pred)\n",
    "\n",
    "# Plot and print the results for Gaussian Naive Bayes\n",
    "print(f\"Gaussian Naive Bayes Test accuracy: {nb_accuracy:.2f}\")\n",
    "print(\"Gaussian Naive Bayes Confusion Matrix:\")\n",
    "plt.figure(figsize=(4, 3))\n",
    "sns.heatmap(nb_cm, annot=True, cmap=\"YlGnBu\")\n",
    "plt.show()\n",
    "print(\"Gaussian Naive Bayes Classification Report:\")\n",
    "print(nb_report)"
   ]
  },
  {
   "cell_type": "code",
   "execution_count": 12,
   "id": "9284bf97",
   "metadata": {
    "execution": {
     "iopub.execute_input": "2024-02-11T19:21:31.186201Z",
     "iopub.status.busy": "2024-02-11T19:21:31.185815Z",
     "iopub.status.idle": "2024-02-11T19:21:31.196707Z",
     "shell.execute_reply": "2024-02-11T19:21:31.195403Z"
    },
    "papermill": {
     "duration": 0.022084,
     "end_time": "2024-02-11T19:21:31.199533",
     "exception": false,
     "start_time": "2024-02-11T19:21:31.177449",
     "status": "completed"
    },
    "tags": []
   },
   "outputs": [
    {
     "name": "stdout",
     "output_type": "stream",
     "text": [
      "Predicted Severity_Severe: 1\n"
     ]
    }
   ],
   "source": [
    "# Data point to predict \n",
    "\n",
    "\n",
    "# Sample input data \n",
    "sample_input_data = {\n",
    "    'Fever': 1,\n",
    "    'Tiredness': 1,\n",
    "    'Dry-Cough': 1,\n",
    "    'Difficulty-in-Breathing':1,\n",
    "    'Sore-Throat':1,\n",
    "    'None_Sympton':0,\n",
    "    'Pains':1,\n",
    "    'Nasal-Congestion':1,\n",
    "    'Runny-Nose':1,\n",
    "    'Diarrhea':1,\n",
    "    'None_Experiencing':0,\n",
    "    'Age_0-9':0,\n",
    "    'Age_10-19':0,\n",
    "    'Age_20-24':0,\n",
    "    'Age_25-59':0,\n",
    "    'Age_60+':1,\n",
    "    'Gender_Female':0,\n",
    "    'Gender_Male':1,\n",
    "    'Gender_Transgender':0,\n",
    "    'Severity_Mild':0,\n",
    "    'Severity_Moderate':0,\n",
    "    'Severity_None':0,\n",
    "    'Contact_Dont-Know':1,\n",
    "    'Contact_No':0,\n",
    "    'Contact_Yes':0\n",
    "    \n",
    "    # Add other features here, excluding 'Severity_Severe'\n",
    "}\n",
    "\n",
    "# Convert the sample input data into a DataFrame\n",
    "sample_input_df = pd.DataFrame([sample_input_data])\n",
    "\n",
    "# Use the trained Naive Bayes model to predict\n",
    "predicted_output = nb.predict(sample_input_df)\n",
    "\n",
    "print(\"Predicted Severity_Severe:\", predicted_output[0])\n"
   ]
  },
  {
   "cell_type": "code",
   "execution_count": 13,
   "id": "f6ed263f",
   "metadata": {
    "execution": {
     "iopub.execute_input": "2024-02-11T19:21:31.215852Z",
     "iopub.status.busy": "2024-02-11T19:21:31.215488Z",
     "iopub.status.idle": "2024-02-11T19:21:31.535910Z",
     "shell.execute_reply": "2024-02-11T19:21:31.534565Z"
    },
    "papermill": {
     "duration": 0.331766,
     "end_time": "2024-02-11T19:21:31.538702",
     "exception": false,
     "start_time": "2024-02-11T19:21:31.206936",
     "status": "completed"
    },
    "tags": []
   },
   "outputs": [
    {
     "name": "stdout",
     "output_type": "stream",
     "text": [
      "Decision Tree Test accuracy: 1.00\n",
      "Decision Tree Confusion Matrix:\n"
     ]
    },
    {
     "data": {
      "image/png": "[encoded data removed]",
      "text/plain": [
       "<Figure size 400x300 with 2 Axes>"
      ]
     },
     "metadata": {},
     "output_type": "display_data"
    },
    {
     "name": "stdout",
     "output_type": "stream",
     "text": [
      "Decision Tree Classification Report:\n",
      "              precision    recall  f1-score   support\n",
      "\n",
      "           0       1.00      1.00      1.00     47641\n",
      "           1       1.00      1.00      1.00     15719\n",
      "\n",
      "    accuracy                           1.00     63360\n",
      "   macro avg       1.00      1.00      1.00     63360\n",
      "weighted avg       1.00      1.00      1.00     63360\n",
      "\n"
     ]
    }
   ],
   "source": [
    "# Predictions for Decision Tree\n",
    "dt_y_pred = dt.predict(X_test)\n",
    "dt_accuracy = accuracy_score(y_test, dt_y_pred)\n",
    "dt_cm = confusion_matrix(y_test, dt_y_pred)\n",
    "dt_report = classification_report(y_test, dt_y_pred)\n",
    "\n",
    "# Plot and print the results for Decision Tree\n",
    "print(f\"Decision Tree Test accuracy: {dt_accuracy:.2f}\")\n",
    "print(\"Decision Tree Confusion Matrix:\")\n",
    "plt.figure(figsize=(4, 3))\n",
    "sns.heatmap(dt_cm, annot=True, cmap=\"YlGnBu\")\n",
    "plt.show()\n",
    "print(\"Decision Tree Classification Report:\")\n",
    "print(dt_report)"
   ]
  },
  {
   "cell_type": "code",
   "execution_count": 14,
   "id": "cc4f5e25",
   "metadata": {
    "execution": {
     "iopub.execute_input": "2024-02-11T19:21:31.556084Z",
     "iopub.status.busy": "2024-02-11T19:21:31.555715Z",
     "iopub.status.idle": "2024-02-11T19:21:31.567004Z",
     "shell.execute_reply": "2024-02-11T19:21:31.565745Z"
    },
    "papermill": {
     "duration": 0.022753,
     "end_time": "2024-02-11T19:21:31.569226",
     "exception": false,
     "start_time": "2024-02-11T19:21:31.546473",
     "status": "completed"
    },
    "tags": []
   },
   "outputs": [
    {
     "name": "stdout",
     "output_type": "stream",
     "text": [
      "Predicted Severity_Severe: 1\n"
     ]
    }
   ],
   "source": [
    "# Data point to predict \n",
    "\n",
    "\n",
    "# Sample input data \n",
    "sample_input_data = {\n",
    "    'Fever': 1,\n",
    "    'Tiredness': 1,\n",
    "    'Dry-Cough': 1,\n",
    "    'Difficulty-in-Breathing':1,\n",
    "    'Sore-Throat':1,\n",
    "    'None_Sympton':0,\n",
    "    'Pains':1,\n",
    "    'Nasal-Congestion':1,\n",
    "    'Runny-Nose':1,\n",
    "    'Diarrhea':1,\n",
    "    'None_Experiencing':0,\n",
    "    'Age_0-9':0,\n",
    "    'Age_10-19':0,\n",
    "    'Age_20-24':0,\n",
    "    'Age_25-59':0,\n",
    "    'Age_60+':1,\n",
    "    'Gender_Female':0,\n",
    "    'Gender_Male':1,\n",
    "    'Gender_Transgender':0,\n",
    "    'Severity_Mild':0,\n",
    "    'Severity_Moderate':0,\n",
    "    'Severity_None':0,\n",
    "    'Contact_Dont-Know':1,\n",
    "    'Contact_No':0,\n",
    "    'Contact_Yes':0\n",
    "    \n",
    "    # Add other features here, excluding 'Severity_Severe'\n",
    "}\n",
    "\n",
    "# Convert the sample input data into a DataFrame\n",
    "sample_input_df = pd.DataFrame([sample_input_data])\n",
    "\n",
    "# Use the trained decision tree model to predict\n",
    "predicted_output = dt.predict(sample_input_df)\n",
    "\n",
    "print(\"Predicted Severity_Severe:\", predicted_output[0])\n"
   ]
  }
 ],
 "metadata": {
  "kaggle": {
   "accelerator": "none",
   "dataSources": [
    {
     "datasetId": 564100,
     "sourceId": 1024825,
     "sourceType": "datasetVersion"
    }
   ],
   "dockerImageVersionId": 30646,
   "isGpuEnabled": false,
   "isInternetEnabled": true,
   "language": "python",
   "sourceType": "notebook"
  },
  "kernelspec": {
   "display_name": "Python 3",
   "language": "python",
   "name": "python3"
  },
  "language_info": {
   "codemirror_mode": {
    "name": "ipython",
    "version": 3
   },
   "file_extension": ".py",
   "mimetype": "text/x-python",
   "name": "python",
   "nbconvert_exporter": "python",
   "pygments_lexer": "ipython3",
   "version": "3.10.13"
  },
  "papermill": {
   "default_parameters": {},
   "duration": 297.753846,
   "end_time": "2024-02-11T19:21:32.198676",
   "environment_variables": {},
   "exception": null,
   "input_path": "__notebook__.ipynb",
   "output_path": "__notebook__.ipynb",
   "parameters": {},
   "start_time": "2024-02-11T19:16:34.444830",
   "version": "2.5.0"
  }
 },
 "nbformat": 4,
 "nbformat_minor": 5
}
